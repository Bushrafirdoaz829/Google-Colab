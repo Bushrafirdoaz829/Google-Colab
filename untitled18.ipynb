{
  "nbformat": 4,
  "nbformat_minor": 0,
  "metadata": {
    "colab": {
      "provenance": [],
      "authorship_tag": "ABX9TyN2HLZac3hYOl/G2omepop7",
      "include_colab_link": true
    },
    "kernelspec": {
      "name": "python3",
      "display_name": "Python 3"
    },
    "language_info": {
      "name": "python"
    }
  },
  "cells": [
    {
      "cell_type": "markdown",
      "metadata": {
        "id": "view-in-github",
        "colab_type": "text"
      },
      "source": [
        "<a href=\"https://colab.research.google.com/github/Bushrafirdoaz829/Google-Colab/blob/main/untitled18.ipynb\" target=\"_parent\"><img src=\"https://colab.research.google.com/assets/colab-badge.svg\" alt=\"Open In Colab\"/></a>"
      ]
    },
    {
      "cell_type": "code",
      "execution_count": null,
      "metadata": {
        "colab": {
          "base_uri": "https://localhost:8080/",
          "height": 106
        },
        "id": "rhttkJ_QLUBz",
        "outputId": "336fa7f2-6cd0-4d04-f565-7b6cd06d6bfb"
      },
      "outputs": [
        {
          "output_type": "error",
          "ename": "SyntaxError",
          "evalue": "invalid syntax (<ipython-input-3-91a2319de28d>, line 4)",
          "traceback": [
            "\u001b[0;36m  File \u001b[0;32m\"<ipython-input-3-91a2319de28d>\"\u001b[0;36m, line \u001b[0;32m4\u001b[0m\n\u001b[0;31m    int main() {\u001b[0m\n\u001b[0m        ^\u001b[0m\n\u001b[0;31mSyntaxError\u001b[0m\u001b[0;31m:\u001b[0m invalid syntax\n"
          ]
        }
      ],
      "source": []
    },
    {
      "cell_type": "code",
      "source": [],
      "metadata": {
        "id": "6We_sXBpVcIr"
      },
      "execution_count": null,
      "outputs": []
    },
    {
      "cell_type": "code",
      "source": [],
      "metadata": {
        "id": "2NU6V_jpVdjd"
      },
      "execution_count": null,
      "outputs": []
    },
    {
      "cell_type": "code",
      "source": [],
      "metadata": {
        "colab": {
          "base_uri": "https://localhost:8080/",
          "height": 228
        },
        "id": "o8iRdhH5RCSj",
        "outputId": "c5776f63-7f18-4f82-82c0-d47eb186ffbb"
      },
      "execution_count": null,
      "outputs": [
        {
          "name": "stdout",
          "output_type": "stream",
          "text": [
            "123456789\n"
          ]
        },
        {
          "output_type": "error",
          "ename": "ValueError",
          "evalue": "not enough values to unpack (expected 2, got 1)",
          "traceback": [
            "\u001b[0;31m---------------------------------------------------------------------------\u001b[0m",
            "\u001b[0;31mValueError\u001b[0m                                Traceback (most recent call last)",
            "\u001b[0;32m<ipython-input-14-20766dc972de>\u001b[0m in \u001b[0;36m<cell line: 1>\u001b[0;34m()\u001b[0m\n\u001b[0;32m----> 1\u001b[0;31m \u001b[0mr\u001b[0m\u001b[0;34m,\u001b[0m \u001b[0mc\u001b[0m\u001b[0;34m=\u001b[0m \u001b[0mmap\u001b[0m\u001b[0;34m(\u001b[0m\u001b[0mint\u001b[0m\u001b[0;34m,\u001b[0m\u001b[0minput\u001b[0m\u001b[0;34m(\u001b[0m\u001b[0;34m)\u001b[0m\u001b[0;34m.\u001b[0m\u001b[0msplit\u001b[0m\u001b[0;34m(\u001b[0m\u001b[0;34m)\u001b[0m\u001b[0;34m)\u001b[0m\u001b[0;34m\u001b[0m\u001b[0;34m\u001b[0m\u001b[0m\n\u001b[0m\u001b[1;32m      2\u001b[0m \u001b[0mA\u001b[0m \u001b[0;34m=\u001b[0m \u001b[0;34m[\u001b[0m\u001b[0;34m]\u001b[0m\u001b[0;34m\u001b[0m\u001b[0;34m\u001b[0m\u001b[0m\n\u001b[1;32m      3\u001b[0m \u001b[0mB\u001b[0m \u001b[0;34m=\u001b[0m \u001b[0;34m[\u001b[0m\u001b[0;34m]\u001b[0m\u001b[0;34m\u001b[0m\u001b[0;34m\u001b[0m\u001b[0m\n\u001b[1;32m      4\u001b[0m \u001b[0;32mfor\u001b[0m \u001b[0mi\u001b[0m \u001b[0;32min\u001b[0m \u001b[0mrange\u001b[0m\u001b[0;34m(\u001b[0m\u001b[0mr\u001b[0m\u001b[0;34m)\u001b[0m\u001b[0;34m:\u001b[0m\u001b[0;34m\u001b[0m\u001b[0;34m\u001b[0m\u001b[0m\n\u001b[1;32m      5\u001b[0m     \u001b[0marr\u001b[0m \u001b[0;34m=\u001b[0m \u001b[0mlist\u001b[0m\u001b[0;34m(\u001b[0m\u001b[0mmap\u001b[0m\u001b[0;34m(\u001b[0m\u001b[0mint\u001b[0m\u001b[0;34m,\u001b[0m\u001b[0minput\u001b[0m\u001b[0;34m(\u001b[0m\u001b[0;34m)\u001b[0m\u001b[0;34m.\u001b[0m\u001b[0msplit\u001b[0m\u001b[0;34m(\u001b[0m\u001b[0;34m)\u001b[0m\u001b[0;34m)\u001b[0m\u001b[0;34m)\u001b[0m\u001b[0;34m\u001b[0m\u001b[0;34m\u001b[0m\u001b[0m\n",
            "\u001b[0;31mValueError\u001b[0m: not enough values to unpack (expected 2, got 1)"
          ]
        }
      ]
    },
    {
      "cell_type": "code",
      "source": [
        "m = [[2,3],[3,4]]\n",
        "n = [[4,5],[5,6]]\n",
        "result = [[0 for _ in range(len(m))]for _ in range(len(m))]\n",
        "for i in range(len(m)):\n",
        "  for j in range(len(n)):\n",
        "    result[i][j] = m[i][j] + n[i][j]\n",
        "    print(result)\n"
      ],
      "metadata": {
        "colab": {
          "base_uri": "https://localhost:8080/"
        },
        "id": "rRYx_wvLWI1p",
        "outputId": "8e005682-c288-4d13-c635-a607bda33e62"
      },
      "execution_count": null,
      "outputs": [
        {
          "output_type": "stream",
          "name": "stdout",
          "text": [
            "[[6, 0], [0, 0]]\n",
            "[[6, 8], [0, 0]]\n",
            "[[6, 8], [8, 0]]\n",
            "[[6, 8], [8, 10]]\n"
          ]
        }
      ]
    },
    {
      "cell_type": "code",
      "source": [
        "m = [[5,5],[12,10]]\n",
        "n = [[2,3],[5,6]]\n",
        "result = [[0 for _ in range(len(m[0]))]for _ in range(len(m[0]))]\n",
        "for i in range(len(m)):\n",
        "  for j in range(len(m[0])):\n",
        "    result[i][j] = m[i][j] - n[i][j]\n",
        "    print(result)"
      ],
      "metadata": {
        "colab": {
          "base_uri": "https://localhost:8080/"
        },
        "id": "Z_tPdWE6aenc",
        "outputId": "5ba44885-8ac6-45c2-ee02-ed8d5f071c63"
      },
      "execution_count": null,
      "outputs": [
        {
          "output_type": "stream",
          "name": "stdout",
          "text": [
            "[[3, 0], [0, 0]]\n",
            "[[3, 2], [0, 0]]\n",
            "[[3, 2], [7, 0]]\n",
            "[[3, 2], [7, 4]]\n"
          ]
        }
      ]
    },
    {
      "cell_type": "code",
      "source": [
        "rows = int(input(\"Enter no. of rows: \"))\n",
        "cols = int(input(\"Enter no. of cols: \"))\n",
        "matrix_a = [[0 for _ in range(cols)] for _ in range(rows)]\n",
        "matrix_b = [[0 for _ in range(cols)] for _ in range(rows)]\n",
        "print(\"Enter elements of a: \")\n",
        "for i in range(rows):\n",
        "  rows_a = list(map(int, input().split()))\n",
        "  matrix_a[i] = rows_a\n",
        "print(\"Enter elements of b: \")\n",
        "for i in range(rows):\n",
        "  rows_b = list(map(int, input().split()))\n",
        "  matrix_b[i] = rows_b\n",
        "matrix_c = [[0 for _ in range(cols)] for _ in range(rows)]\n",
        "for i in range(rows):\n",
        "  for j in range(cols):\n",
        "    matrix_c[i][j] = matrix_a[i][j] + matrix_b[i][j]\n",
        "print(\"Sum of two matrices: \")\n",
        "for row in matrix_c:\n",
        "  for element in row:\n",
        "    print(element, end=' ')\n",
        "  print()"
      ],
      "metadata": {
        "id": "heEdmyRbVfif",
        "outputId": "c3969cab-6167-4c3d-def4-579c004c540f",
        "colab": {
          "base_uri": "https://localhost:8080/"
        }
      },
      "execution_count": 2,
      "outputs": [
        {
          "output_type": "stream",
          "name": "stdout",
          "text": [
            "Enter no. of rows: 2\n",
            "Enter no. of cols: 2\n",
            "Enter elements of a: \n",
            "1 2\n",
            "3 4\n",
            "Enter elements of b: \n",
            "4 5\n",
            "6 7\n",
            "Sum of two matrices: \n",
            "5 7 \n",
            "9 11 \n"
          ]
        }
      ]
    }
  ]
}