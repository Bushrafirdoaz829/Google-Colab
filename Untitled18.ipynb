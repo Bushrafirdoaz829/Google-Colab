{
  "nbformat": 4,
  "nbformat_minor": 0,
  "metadata": {
    "colab": {
      "provenance": [],
      "authorship_tag": "ABX9TyPtuPkfV0xSdBxwTYat0i/g",
      "include_colab_link": true
    },
    "kernelspec": {
      "name": "python3",
      "display_name": "Python 3"
    },
    "language_info": {
      "name": "python"
    }
  },
  "cells": [
    {
      "cell_type": "markdown",
      "metadata": {
        "id": "view-in-github",
        "colab_type": "text"
      },
      "source": [
        "<a href=\"https://colab.research.google.com/github/Bushrafirdoaz829/Google-Colab/blob/main/Untitled18.ipynb\" target=\"_parent\"><img src=\"https://colab.research.google.com/assets/colab-badge.svg\" alt=\"Open In Colab\"/></a>"
      ]
    },
    {
      "cell_type": "code",
      "source": [
        "rows = int(input(\"Enter no. of rows in matrix_a: \"))\n",
        "cols = int(input(\"Enter no. of cols in matrix_a and no. of rows in matrix_b: \"))\n",
        "cols2 = int(input(\"Enter no. of cols in matrix_b: \"))\n",
        "\n",
        "\n",
        "matrix_a = [[0 for _ in range(cols)] for _ in range(rows)]\n",
        "matrix_b = [[0 for _ in range(cols2)] for _ in range(cols)]\n",
        "\n",
        "\n",
        "print(\"Enter elements of a: \")\n",
        "for i in range(rows):\n",
        "  rows_a = list(map(int, input().split()))\n",
        "  matrix_a[i] = rows_a\n",
        "\n",
        "\n",
        "print(\"Enter elements of b: \")\n",
        "for i in range(cols):\n",
        "  rows_b = list(map(int, input().split()))\n",
        "  matrix_b[i] = rows_b\n",
        "\n",
        "\n",
        "matrix_c = [[0 for _ in range(cols2)] for _ in range(rows)]\n",
        "for i in range(rows):\n",
        "  for j in range(cols2):\n",
        "    for k in range(cols):\n",
        "      matrix_c[i][j] += matrix_a[i][k] * matrix_b[k][j]\n",
        "print(\"Product of two matrices: \")\n",
        "for row in matrix_c:\n",
        "  for element in row:\n",
        "    print(element, end=\" \")\n",
        "  print()\n"
      ],
      "metadata": {
        "colab": {
          "base_uri": "https://localhost:8080/"
        },
        "id": "8oI1eEbnsc-w",
        "outputId": "a4460617-d27a-4398-fcd6-e40751efa91e"
      },
      "execution_count": 1,
      "outputs": [
        {
          "output_type": "stream",
          "name": "stdout",
          "text": [
            "Enter no. of rows in matrix_a: 2 \n",
            "Enter no. of cols in matrix_a and no. of rows in matrix_b: 3\n",
            "Enter no. of cols in matrix_b: 2\n",
            "Enter elements of a: \n",
            "1 4 2\n",
            "1 2 1\n",
            "Enter elements of b: \n",
            "2 1\n",
            "1 2\n",
            "3 1\n",
            "Product of two matrices: \n",
            "12 11 \n",
            "7 6 \n"
          ]
        }
      ]
    },
    {
      "cell_type": "code",
      "source": [
        "rows = int(input(\"Enter no. of rows: \"))\n",
        "cols = int(input(\"Enter no. of cols: \"))\n",
        "matrix = [[0 for _ in range(cols)] for _ in range(rows)]\n",
        "print(\"Enter elements of matrix: \")\n",
        "for i in range(rows):\n",
        "  row = list(map(int, input().split()))\n",
        "  matrix[i] = row\n",
        "transpose =[[0 for _ in range(rows)] for _ in range(cols)]\n",
        "\n",
        "print(\"Transpose matrix: \")\n",
        "for i in range(cols):\n",
        "  for j in range(rows):\n",
        "    transpose[i][j] = matrix[j][i]\n",
        "    print(transpose[i][j], end=' ')\n",
        "  print()\n"
      ],
      "metadata": {
        "colab": {
          "base_uri": "https://localhost:8080/"
        },
        "id": "yCd1kFBa5FFt",
        "outputId": "fcae9ba8-bc00-467d-cecc-993b3840c34d"
      },
      "execution_count": 11,
      "outputs": [
        {
          "output_type": "stream",
          "name": "stdout",
          "text": [
            "Enter no. of rows: 3\n",
            "Enter no. of cols: 3\n",
            "Enter elements of matrix: \n",
            "1 2 3\n",
            "4 5 6\n",
            "7 8 9\n",
            "Transpose matrix: \n",
            "1 4 7 \n",
            "2 5 8 \n",
            "3 6 9 \n"
          ]
        }
      ]
    }
  ]
}