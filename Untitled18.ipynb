{
  "nbformat": 4,
  "nbformat_minor": 0,
  "metadata": {
    "colab": {
      "provenance": [],
      "authorship_tag": "ABX9TyP67Ps8xWa6uBhYV72cj2+7",
      "include_colab_link": true
    },
    "kernelspec": {
      "name": "python3",
      "display_name": "Python 3"
    },
    "language_info": {
      "name": "python"
    }
  },
  "cells": [
    {
      "cell_type": "markdown",
      "metadata": {
        "id": "view-in-github",
        "colab_type": "text"
      },
      "source": [
        "<a href=\"https://colab.research.google.com/github/Bushrafirdoaz829/Google-Colab/blob/main/Untitled18.ipynb\" target=\"_parent\"><img src=\"https://colab.research.google.com/assets/colab-badge.svg\" alt=\"Open In Colab\"/></a>"
      ]
    },
    {
      "cell_type": "code",
      "source": [
        "rows = int(input(\"Enter no. of rows in matrix_a: \"))\n",
        "cols = int(input(\"Enter no. of cols in matrix_a and no. of rows in matrix_b: \"))\n",
        "cols2 = int(input(\"Enter no. of cols in matrix_b: \"))\n",
        "\n",
        "\n",
        "matrix_a = [[0 for _ in range(cols)] for _ in range(rows)]\n",
        "matrix_b = [[0 for _ in range(cols2)] for _ in range(cols)]\n",
        "\n",
        "\n",
        "print(\"Enter elements of a: \")\n",
        "for i in range(rows):\n",
        "  rows_a = list(map(int, input().split()))\n",
        "  matrix_a[i] = rows_a\n",
        "\n",
        "\n",
        "print(\"Enter elements of b: \")\n",
        "for i in range(cols):\n",
        "  rows_b = list(map(int, input().split()))\n",
        "  matrix_b[i] = rows_b\n",
        "\n",
        "\n",
        "matrix_c = [[0 for _ in range(cols2)] for _ in range(rows)]\n",
        "for i in range(rows):\n",
        "  for j in range(cols2):\n",
        "    for k in range(cols):\n",
        "      matrix_c[i][j] += matrix_a[i][k] * matrix_b[k][j]\n",
        "print(\"Product of two matrices: \")\n",
        "for row in matrix_c:\n",
        "  for element in row:\n",
        "    print(element, end=\" \")\n",
        "  print()\n"
      ],
      "metadata": {
        "colab": {
          "base_uri": "https://localhost:8080/"
        },
        "id": "8oI1eEbnsc-w",
        "outputId": "a4460617-d27a-4398-fcd6-e40751efa91e"
      },
      "execution_count": 1,
      "outputs": [
        {
          "output_type": "stream",
          "name": "stdout",
          "text": [
            "Enter no. of rows in matrix_a: 2 \n",
            "Enter no. of cols in matrix_a and no. of rows in matrix_b: 3\n",
            "Enter no. of cols in matrix_b: 2\n",
            "Enter elements of a: \n",
            "1 4 2\n",
            "1 2 1\n",
            "Enter elements of b: \n",
            "2 1\n",
            "1 2\n",
            "3 1\n",
            "Product of two matrices: \n",
            "12 11 \n",
            "7 6 \n"
          ]
        }
      ]
    }
  ]
}